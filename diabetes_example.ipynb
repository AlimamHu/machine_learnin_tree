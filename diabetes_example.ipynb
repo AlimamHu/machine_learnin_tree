{
  "nbformat": 4,
  "nbformat_minor": 0,
  "metadata": {
    "colab": {
      "name": "diabetes example.ipynb",
      "provenance": [],
      "collapsed_sections": [],
      "authorship_tag": "ABX9TyNnxT0GAnpQm4gZhooozsjg",
      "include_colab_link": true
    },
    "kernelspec": {
      "name": "python3",
      "display_name": "Python 3"
    },
    "language_info": {
      "name": "python"
    }
  },
  "cells": [
    {
      "cell_type": "markdown",
      "metadata": {
        "id": "view-in-github",
        "colab_type": "text"
      },
      "source": [
        "<a href=\"https://colab.research.google.com/github/AlimamHu/machine_learnin_tree/blob/main/diabetes_example.ipynb\" target=\"_parent\"><img src=\"https://colab.research.google.com/assets/colab-badge.svg\" alt=\"Open In Colab\"/></a>"
      ]
    },
    {
      "cell_type": "code",
      "metadata": {
        "id": "jto0kZDog1Sf"
      },
      "source": [
        "import numpy as np\n",
        "import pandas as pd\n"
      ],
      "execution_count": 1,
      "outputs": []
    },
    {
      "cell_type": "code",
      "metadata": {
        "id": "r5S09miOhEM6"
      },
      "source": [
        "from sklearn.datasets import load_diabetes"
      ],
      "execution_count": 2,
      "outputs": []
    },
    {
      "cell_type": "code",
      "metadata": {
        "id": "8NKQ4Tl0hZ32"
      },
      "source": [
        "from sklearn.metrics import mean_squared_error ,r2_score,mean_absolute_error"
      ],
      "execution_count": 3,
      "outputs": []
    },
    {
      "cell_type": "code",
      "metadata": {
        "id": "1mEX6wDtjID0"
      },
      "source": [
        "X,y=load_diabetes(return_X_y=True)"
      ],
      "execution_count": 4,
      "outputs": []
    },
    {
      "cell_type": "code",
      "metadata": {
        "id": "Xu5SNggOl_Uw"
      },
      "source": [
        "diabetes_X=X[:,np.newaxis,2]"
      ],
      "execution_count": 5,
      "outputs": []
    },
    {
      "cell_type": "code",
      "metadata": {
        "id": "gEJZeZBwkW1E"
      },
      "source": [
        "diabetes_X_train=diabetes_X[:-20]\n",
        "diabetes_X_test=diabetes_X[-20:]"
      ],
      "execution_count": 6,
      "outputs": []
    },
    {
      "cell_type": "code",
      "metadata": {
        "id": "vQQ0MpctkrZ6"
      },
      "source": [
        "diabetes_Y_train=y[:-20]\n",
        "diabetes_Y_test=y[-20:]"
      ],
      "execution_count": 7,
      "outputs": []
    },
    {
      "cell_type": "code",
      "metadata": {
        "id": "lWst6k7xknG6"
      },
      "source": [
        "from sklearn.linear_model import LinearRegression"
      ],
      "execution_count": 8,
      "outputs": []
    },
    {
      "cell_type": "code",
      "metadata": {
        "id": "YPvpAtKFk6xp"
      },
      "source": [
        "model=LinearRegression()"
      ],
      "execution_count": 9,
      "outputs": []
    },
    {
      "cell_type": "code",
      "metadata": {
        "colab": {
          "base_uri": "https://localhost:8080/"
        },
        "id": "jsaCPPHalcRO",
        "outputId": "fc61dddd-a311-4230-a540-babee459d0a1"
      },
      "source": [
        "model.fit(diabetes_X_train,diabetes_Y_train)"
      ],
      "execution_count": 10,
      "outputs": [
        {
          "output_type": "execute_result",
          "data": {
            "text/plain": [
              "LinearRegression(copy_X=True, fit_intercept=True, n_jobs=None, normalize=False)"
            ]
          },
          "metadata": {
            "tags": []
          },
          "execution_count": 10
        }
      ]
    },
    {
      "cell_type": "code",
      "metadata": {
        "id": "ptohuf6bnnQP"
      },
      "source": [
        "diabetes_Y_estimated_=model.predict(diabetes_X_test)"
      ],
      "execution_count": 11,
      "outputs": []
    },
    {
      "cell_type": "code",
      "metadata": {
        "colab": {
          "base_uri": "https://localhost:8080/"
        },
        "id": "X113zfTbnv6f",
        "outputId": "75232861-869a-483b-9ddf-c26fc0e09abe"
      },
      "source": [
        "mean_squared_error(diabetes_Y_estimated_,diabetes_Y_test)"
      ],
      "execution_count": 12,
      "outputs": [
        {
          "output_type": "execute_result",
          "data": {
            "text/plain": [
              "2548.0723987259694"
            ]
          },
          "metadata": {
            "tags": []
          },
          "execution_count": 12
        }
      ]
    },
    {
      "cell_type": "code",
      "metadata": {
        "colab": {
          "base_uri": "https://localhost:8080/"
        },
        "id": "V5IBwXqUn4x-",
        "outputId": "d362cd9f-07dc-4e31-8cd4-eb17a63caf97"
      },
      "source": [
        "model.coef_"
      ],
      "execution_count": 13,
      "outputs": [
        {
          "output_type": "execute_result",
          "data": {
            "text/plain": [
              "array([938.23786125])"
            ]
          },
          "metadata": {
            "tags": []
          },
          "execution_count": 13
        }
      ]
    },
    {
      "cell_type": "code",
      "metadata": {
        "colab": {
          "base_uri": "https://localhost:8080/"
        },
        "id": "NToKZqYin9RX",
        "outputId": "7a0f3493-2675-4e0b-e1e4-52c3b2072700"
      },
      "source": [
        "model.intercept_"
      ],
      "execution_count": 14,
      "outputs": [
        {
          "output_type": "execute_result",
          "data": {
            "text/plain": [
              "152.91886182616167"
            ]
          },
          "metadata": {
            "tags": []
          },
          "execution_count": 14
        }
      ]
    },
    {
      "cell_type": "code",
      "metadata": {
        "id": "kd7fDDrKn_-W"
      },
      "source": [
        "%matplotlib inline\n",
        "import matplotlib.pyplot as plt"
      ],
      "execution_count": 15,
      "outputs": []
    },
    {
      "cell_type": "code",
      "metadata": {
        "colab": {
          "base_uri": "https://localhost:8080/",
          "height": 280
        },
        "id": "yKH71Q2UoPFm",
        "outputId": "9c5d4b18-2c64-4f3c-b9e1-ab47158718ae"
      },
      "source": [
        "plt.scatter(diabetes_X_train,diabetes_Y_train)\n",
        "plt.plot(diabetes_X_test,diabetes_Y_estimated_,color='r')\n",
        "plt.xlabel('diabetes_X')\n",
        "plt.ylabel('diabetes_Y_')\n",
        "plt.show()"
      ],
      "execution_count": 16,
      "outputs": [
        {
          "output_type": "display_data",
          "data": {
            "image/png": "[encoded data removed]",
            "text/plain": [
              "<Figure size 432x288 with 1 Axes>"
            ]
          },
          "metadata": {
            "tags": [],
            "needs_background": "light"
          }
        }
      ]
    },
    {
      "cell_type": "code",
      "metadata": {
        "id": "IImRi134oU4t"
      },
      "source": [
        ""
      ],
      "execution_count": 16,
      "outputs": []
    }
  ]
}